{
 "cells": [
  {
   "cell_type": "markdown",
   "metadata": {},
   "source": [
    "# Math Tutor Assistant"
   ]
  },
  {
   "cell_type": "markdown",
   "metadata": {},
   "source": [
    "## Objective\n",
    "\n",
    "This notebook demonstrates the following:\n",
    "\n",
    "- Showcases the foundational concepts of Assistants such as Threads, Messages, Runs, Tools, and lifecycle management.\n",
    "\n",
    "This tutorial uses the following Azure AI services:\n",
    "\n",
    "- Access to Azure OpenAI Service - you can apply for access [here](https://aka.ms/oai/access)\n",
    "- Azure OpenAI service - you can create it from instructions [here](https://learn.microsoft.com/en-us/azure/ai-services/openai/how-to/create-resource)\\n\",\n",
    "- Azure OpenAI Studio - go to [https://oai.azure.com/](https://oai.azure.com/) to work with the Assistants API Playground\n",
    "- A connection to the Azure OpenAI Service with a [Key and Endpoint](https://learn.microsoft.com/en-us/azure/ai-services/openai/chatgpt-quickstart)\n",
    "\n",
    "Reference:\n",
    "\n",
    "- Learn more about how to use Assistants with our [How-to guide on Assistants](https://learn.microsoft.com/en-us/azure/ai-services/openai/how-to/assistant).\n",
    "- [Assistants OpenAI Overview](https://platform.openai.com/docs/assistants/overview)\n",
    "- [Github-OpenAI Python/examples/Assistant demo notebook](https://github.com/openai/openai-python/blob/main/examples/assistant.py)"
   ]
  },
  {
   "cell_type": "markdown",
   "metadata": {},
   "source": [
    "## Time\n",
    "\n",
    "You should expect to spend 5-10 minutes running this sample. "
   ]
  },
  {
   "cell_type": "markdown",
   "metadata": {},
   "source": [
    "## About this example\n",
    "\n",
    "This sample shows users how to create an Azure OpenAI Assistant named \"Math Tutor\" using the Azure OpenAI API. The assistant is designed to function as a personal math tutor, capable of answering math questions through code interpretation. The script initiates a conversation with the assistant, guiding it through various mathematical queries and scenarios to showcase its capabilities.\n",
    "\n",
    "This sample provides developers with a clear demonstration of how to leverage the core concepts of the Assistants API into their projects, highlighting its simplicity and effectiveness in leveraging foundational concepts. "
   ]
  },
  {
   "cell_type": "markdown",
   "metadata": {},
   "source": [
    "## Load the required libraries"
   ]
  },
  {
   "cell_type": "code",
   "execution_count": null,
   "metadata": {
    "dotnet_interactive": {
     "language": "csharp"
    },
    "polyglot_notebook": {
     "kernelName": "csharp"
    },
    "vscode": {
     "languageId": "polyglot-notebook"
    }
   },
   "outputs": [],
   "source": [
    "#r \"nuget: Azure.AI.OpenAI.Assistants, 1.0.0-beta.3\"\n",
    "#r \"nuget: dotenv.net\"\n",
    "\n",
    "using Azure;\n",
    "using Azure.AI.OpenAI.Assistants;"
   ]
  },
  {
   "cell_type": "markdown",
   "metadata": {},
   "source": [
    "## Load the environment variables"
   ]
  },
  {
   "cell_type": "code",
   "execution_count": null,
   "metadata": {
    "vscode": {
     "languageId": "polyglot-notebook"
    }
   },
   "outputs": [],
   "source": [
    "using dotenv.net;\n",
    "DotEnv.Load(new DotEnvOptions(envFilePaths: new[] {\"../.env\"}));\n",
    "\n",
    "var api_endpoint = Environment.GetEnvironmentVariable(\"OPENAI_URI\");\n",
    "var api_key = Environment.GetEnvironmentVariable(\"OPENAI_KEY\");\n",
    "var api_version = Environment.GetEnvironmentVariable(\"OPENAI_VERSION\");\n",
    "var api_deployment_name = Environment.GetEnvironmentVariable(\"OPENAI_GPT_DEPLOYMENT\");\n",
    "HTML(api_deployment_name)\n"
   ]
  },
  {
   "cell_type": "markdown",
   "metadata": {},
   "source": [
    "### Create an Azure OpenAI client"
   ]
  },
  {
   "cell_type": "code",
   "execution_count": null,
   "metadata": {
    "dotnet_interactive": {
     "language": "csharp"
    },
    "polyglot_notebook": {
     "kernelName": "csharp"
    },
    "vscode": {
     "languageId": "polyglot-notebook"
    }
   },
   "outputs": [],
   "source": [
    "AssistantsClient client = new AssistantsClient(new Uri(api_endpoint), new AzureKeyCredential(api_key));"
   ]
  },
  {
   "cell_type": "code",
   "execution_count": null,
   "metadata": {
    "dotnet_interactive": {
     "language": "csharp"
    },
    "polyglot_notebook": {
     "kernelName": "csharp"
    },
    "vscode": {
     "languageId": "polyglot-notebook"
    }
   },
   "outputs": [],
   "source": [
    "Response<Assistant> assistantResponse = await client.CreateAssistantAsync(\n",
    "    new AssistantCreationOptions(api_deployment_name)\n",
    "    {\n",
    "        Name = \"Math Tutor\",\n",
    "        Instructions = \"You are a personal math tutor. Write and run code to answer math questions.\",\n",
    "        Tools = { new CodeInterpreterToolDefinition() }        \n",
    "    });\n",
    "Assistant assistant = assistantResponse.Value;"
   ]
  },
  {
   "cell_type": "markdown",
   "metadata": {},
   "source": [
    "### Create an Assistant and a Thread"
   ]
  },
  {
   "cell_type": "code",
   "execution_count": null,
   "metadata": {
    "dotnet_interactive": {
     "language": "csharp"
    },
    "polyglot_notebook": {
     "kernelName": "csharp"
    },
    "vscode": {
     "languageId": "polyglot-notebook"
    }
   },
   "outputs": [],
   "source": [
    "Response<AssistantThread> threadResponse = await client.CreateThreadAsync();\n",
    "AssistantThread thread = threadResponse.Value;"
   ]
  },
  {
   "cell_type": "code",
   "execution_count": null,
   "metadata": {
    "dotnet_interactive": {
     "language": "csharp"
    },
    "polyglot_notebook": {
     "kernelName": "csharp"
    },
    "vscode": {
     "languageId": "polyglot-notebook"
    }
   },
   "outputs": [],
   "source": [
    "async Task ProcessMessagesAsync(IReadOnlyList<ThreadMessage> messages)\n",
    "{\n",
    "    List<ThreadMessage> localList = [];\n",
    "    foreach (ThreadMessage threadMessage in messages)\n",
    "    {\n",
    "        localList.Add(threadMessage);\n",
    "        if (threadMessage.Role == \"user\")\n",
    "        {\n",
    "            break;\n",
    "        }\n",
    "    }\n",
    "    localList.Reverse();\n",
    "\n",
    "    // Note: messages iterate from newest to oldest, with the messages[0] being the most recent\n",
    "    foreach (ThreadMessage threadMessage in localList)\n",
    "    {\n",
    "        Console.Write($\"{threadMessage.CreatedAt:yyyy-MM-dd HH:mm:ss} - {threadMessage.Role,10}: \");\n",
    "        foreach (MessageContent contentItem in threadMessage.ContentItems)\n",
    "        {\n",
    "            if (contentItem is MessageTextContent textItem)\n",
    "            {\n",
    "                Console.Write(textItem.Text);\n",
    "                var annotations = textItem.Annotations;\n",
    "                if (annotations != null && annotations.Count > 0)\n",
    "                {\n",
    "                    foreach (var annotation in annotations)\n",
    "                    {\n",
    "                        if (annotation is MessageTextFileCitationAnnotation textCitation)\n",
    "                        {\n",
    "                            Console.Write(textCitation.Text);\n",
    "                        } else if (annotation is MessageTextFilePathAnnotation filCitation)\n",
    "                        {\n",
    "                            Console.Write(filCitation.FileId);\n",
    "                        }\n",
    "                    }\n",
    "                }\n",
    "                \n",
    "            }\n",
    "            else if (contentItem is MessageImageFileContent imageFileItem)\n",
    "            {\n",
    "                // Console.Write($\"<image from ID: {imageFileItem.FileId}\");\n",
    "                var resp = await client.GetFileContentAsync(imageFileItem.FileId);\n",
    "                if (resp.Value is not null)\n",
    "                {\n",
    "                    var b64 = Convert.ToBase64String(resp.Value);\n",
    "                    var img = $\"<img src='data:image/png;base64,{b64}' />\";\n",
    "                    HTML(img);\n",
    "                }\n",
    "            }\n",
    "            Console.WriteLine();\n",
    "        }\n",
    "    }\n",
    "}"
   ]
  },
  {
   "cell_type": "code",
   "execution_count": null,
   "metadata": {
    "dotnet_interactive": {
     "language": "csharp"
    },
    "polyglot_notebook": {
     "kernelName": "csharp"
    },
    "vscode": {
     "languageId": "polyglot-notebook"
    }
   },
   "outputs": [],
   "source": [
    "async Task ProcessPrompt(string prompt)\n",
    "{\n",
    "    Response<ThreadMessage> messageResponse = await client.CreateMessageAsync(\n",
    "        thread.Id,\n",
    "        MessageRole.User,\n",
    "        prompt);\n",
    "    ThreadMessage message = messageResponse.Value;\n",
    "    \n",
    "    Response<ThreadRun> runResponse = await client.CreateRunAsync(thread,assistant);\n",
    "    ThreadRun run = runResponse.Value;\n",
    "\n",
    "    do\n",
    "    {\n",
    "        await Task.Delay(TimeSpan.FromMilliseconds(500));\n",
    "        runResponse = await client.GetRunAsync(thread.Id, runResponse.Value.Id);\n",
    "        if (runResponse.Value.Status == RunStatus.RequiresAction)\n",
    "        {\n",
    "            // Process Funcion calling\n",
    "        }\n",
    "    }\n",
    "    while (runResponse.Value.Status == RunStatus.Queued\n",
    "    || runResponse.Value.Status == RunStatus.InProgress);\n",
    "\n",
    "    Response<PageableList<ThreadMessage>> afterRunMessagesResponse\n",
    "    = await client.GetMessagesAsync(thread.Id);\n",
    "    IReadOnlyList<ThreadMessage> messages = afterRunMessagesResponse.Value.Data;\n",
    "\n",
    "    await ProcessMessagesAsync(messages);\n",
    "}\n"
   ]
  },
  {
   "cell_type": "markdown",
   "metadata": {},
   "source": [
    "### Have a conversation with the Assistant"
   ]
  },
  {
   "cell_type": "code",
   "execution_count": null,
   "metadata": {
    "dotnet_interactive": {
     "language": "csharp"
    },
    "polyglot_notebook": {
     "kernelName": "csharp"
    },
    "vscode": {
     "languageId": "polyglot-notebook"
    }
   },
   "outputs": [],
   "source": [
    "await ProcessPrompt(\"What is the linear equation when two (x,y) points are (1,1) and (5,10)?\");"
   ]
  },
  {
   "cell_type": "code",
   "execution_count": null,
   "metadata": {
    "dotnet_interactive": {
     "language": "csharp"
    },
    "polyglot_notebook": {
     "kernelName": "csharp"
    },
    "vscode": {
     "languageId": "polyglot-notebook"
    }
   },
   "outputs": [],
   "source": [
    "await ProcessPrompt(\"I need to solve the equation `3x + 11 = 14`. Can you help me?\");"
   ]
  },
  {
   "cell_type": "code",
   "execution_count": null,
   "metadata": {
    "dotnet_interactive": {
     "language": "csharp"
    },
    "polyglot_notebook": {
     "kernelName": "csharp"
    },
    "vscode": {
     "languageId": "polyglot-notebook"
    }
   },
   "outputs": [],
   "source": [
    "await ProcessPrompt(@\"x=r*cos(u)sin(v), y=r*sin(u)sin(v), r=2+sin(7*u+5*v) for 0<u<2π and 0<v<π.\n",
    "Create a graph of the equation z=r*cos(v).\");"
   ]
  },
  {
   "cell_type": "code",
   "execution_count": null,
   "metadata": {
    "dotnet_interactive": {
     "language": "csharp"
    },
    "polyglot_notebook": {
     "kernelName": "csharp"
    },
    "vscode": {
     "languageId": "polyglot-notebook"
    }
   },
   "outputs": [],
   "source": [
    "await ProcessPrompt(\"create a csv file with 10 customer names\")"
   ]
  },
  {
   "cell_type": "markdown",
   "metadata": {},
   "source": [
    "### Cleanup"
   ]
  },
  {
   "cell_type": "code",
   "execution_count": null,
   "metadata": {
    "dotnet_interactive": {
     "language": "csharp"
    },
    "polyglot_notebook": {
     "kernelName": "csharp"
    },
    "vscode": {
     "languageId": "polyglot-notebook"
    }
   },
   "outputs": [],
   "source": [
    "await client.DeleteAssistantAsync(assistant.Id);\n",
    "await client.DeleteThreadAsync(thread.Id);"
   ]
  }
 ],
 "metadata": {
  "kernelspec": {
   "display_name": "Python 3 (ipykernel)",
   "language": "python",
   "name": "python3"
  },
  "language_info": {
   "codemirror_mode": {
    "name": "ipython",
    "version": 3
   },
   "file_extension": ".py",
   "mimetype": "text/x-python",
   "name": "python",
   "nbconvert_exporter": "python",
   "pygments_lexer": "ipython3",
   "version": "3.10.12"
  }
 },
 "nbformat": 4,
 "nbformat_minor": 4
}
