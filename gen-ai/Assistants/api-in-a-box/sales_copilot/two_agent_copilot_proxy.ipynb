{
 "cells": [
  {
   "cell_type": "markdown",
   "metadata": {},
   "source": [
    "# Two Agent Copilot<br/>with Agent Proxy\n",
    "\n",
    "This is a sample of two Assistants being used as agents in a complex Copilot solution.\n",
    "\n",
    "Agents:\n",
    "- **Sales Agent:** It is implemented with an Assistants API that can perform calculations and can provide the user information customer, sellers, customer orders, and inventory.\n",
    "- **Trading Agent:** It is implemented with an Assistant API with function calling and code interpreter to get the latest stock prices and can provide the user with up to date prices and perform portfolio calculations.\n",
    "\n",
    "Coordination:\n",
    "- **Agent Proxy:** This agent coordinates which agent to call depending on user's intent.\n",
    "\n",
    "Possible messages handling options:\n",
    "1. No handling: a la LLM model\n",
    "2. Manual handling: user write logic to coordinate messages between two agent\n",
    "3. Hybrid: One agent keeps state the other just used as LLM\n",
    "\n",
    "Diagram:\n",
    "\n",
    "![Two agent Assistant Diagram](../images/proxy-two-agent-diagram.png)\n",
    "\n",
    "### Load the required libraries"
   ]
  },
  {
   "cell_type": "code",
   "execution_count": null,
   "metadata": {},
   "outputs": [],
   "source": [
    "import sales_agent\n",
    "import trading_agent\n",
    "from AgentProxy import AgentProxy\n",
    "from AgentRegistration import AgentRegistration\n",
    "from AgentSettings import AgentSettings\n",
    "from openai import AzureOpenAI"
   ]
  },
  {
   "cell_type": "markdown",
   "metadata": {},
   "source": [
    "### Load the environment variables"
   ]
  },
  {
   "cell_type": "code",
   "execution_count": null,
   "metadata": {},
   "outputs": [],
   "source": [
    "settings = AgentSettings()"
   ]
  },
  {
   "cell_type": "code",
   "execution_count": null,
   "metadata": {},
   "outputs": [],
   "source": [
    "client = AzureOpenAI(api_key=settings.api_key,\n",
    "        api_version=settings.api_version,\n",
    "        azure_endpoint=settings.api_endpoint)"
   ]
  },
  {
   "cell_type": "markdown",
   "metadata": {},
   "source": [
    "### Create the AzureOpenAI client"
   ]
  },
  {
   "cell_type": "code",
   "execution_count": null,
   "metadata": {},
   "outputs": [],
   "source": [
    "trading_agent = trading_agent.get_agent(settings,client)"
   ]
  },
  {
   "cell_type": "code",
   "execution_count": null,
   "metadata": {},
   "outputs": [],
   "source": [
    "sales_agent = sales_agent.get_agent(settings,client)"
   ]
  },
  {
   "cell_type": "code",
   "execution_count": null,
   "metadata": {},
   "outputs": [],
   "source": [
    "sales_agent_registration = AgentRegistration(settings, client, \"SalesIntent\",\"questions or operations related to calculations, customers, sales, orders, inventory, items, and sellers.\",sales_agent)"
   ]
  },
  {
   "cell_type": "code",
   "execution_count": null,
   "metadata": {},
   "outputs": [],
   "source": [
    "trading_agent_registration = AgentRegistration(settings, client, \"TradingIntent\",\"questions or operations related to trading, stocks, investments, and financial markets.\",trading_agent)"
   ]
  },
  {
   "cell_type": "code",
   "execution_count": null,
   "metadata": {},
   "outputs": [],
   "source": [
    "proxy = AgentProxy(settings, client, [sales_agent_registration, trading_agent_registration])"
   ]
  },
  {
   "cell_type": "markdown",
   "metadata": {},
   "source": [
    "### Have a conversation with the Assistant"
   ]
  },
  {
   "cell_type": "code",
   "execution_count": null,
   "metadata": {},
   "outputs": [],
   "source": [
    "proxy.process_for_intent(\"Suzan\", \"user_123\", \"What is the speed of light?\")"
   ]
  },
  {
   "cell_type": "code",
   "execution_count": null,
   "metadata": {},
   "outputs": [],
   "source": [
    "proxy.process_for_intent(\"John\", \"user_123\", \"Chart the products sold by State?\")"
   ]
  },
  {
   "cell_type": "code",
   "execution_count": null,
   "metadata": {},
   "outputs": [],
   "source": [
    "proxy.process_for_intent(\"John\", \"user_123\", \"What is the current MSFT price?\")"
   ]
  },
  {
   "cell_type": "markdown",
   "metadata": {},
   "source": [
    "### Cleanup"
   ]
  },
  {
   "cell_type": "code",
   "execution_count": null,
   "metadata": {},
   "outputs": [],
   "source": [
    "sales_agent.cleanup()\n",
    "trading_agent.cleanup()"
   ]
  }
 ],
 "metadata": {
  "kernelspec": {
   "display_name": "Python 3 (ipykernel)",
   "language": "python",
   "name": "python3"
  },
  "language_info": {
   "codemirror_mode": {
    "name": "ipython",
    "version": 3
   },
   "file_extension": ".py",
   "mimetype": "text/x-python",
   "name": "python",
   "nbconvert_exporter": "python",
   "pygments_lexer": "ipython3",
   "version": "3.10.12"
  }
 },
 "nbformat": 4,
 "nbformat_minor": 4
}
